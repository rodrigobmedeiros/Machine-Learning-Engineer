{
 "cells": [
  {
   "cell_type": "markdown",
   "metadata": {},
   "source": [
    "Notes on Udacity Nanodregree Program: [Machine Learning Engineer](https://www.udacity.com/course/machine-learning-engineer-nanodegree--nd009t)\n",
    "\n",
    "# <center>Machine Learning Engineer</center>"
   ]
  },
  {
   "cell_type": "markdown",
   "metadata": {},
   "source": [
    "# 1. Software Engineering Fundamentals\n",
    "\n",
    "## 1.1 Introduction to Software Engineering"
   ]
  },
  {
   "cell_type": "markdown",
   "metadata": {},
   "source": [
    "It's very important to use sotftware engineering skills in order to build data science and machine learning applications. We have to think that one day these applications will be on production and we have to think about how to develop a good program. So, to really impact the world with our projects, we have to follow some steps:\n",
    "\n",
    "- Write clean and modular code\n",
    "- Improve code efficiency\n",
    "- Add efective documentation\n",
    "- Use version control\n",
    "\n",
    "Now, We'll focuse in each one of these steps."
   ]
  },
  {
   "cell_type": "markdown",
   "metadata": {},
   "source": [
    "## 1.2 Clean and Modular Code"
   ]
  },
  {
   "cell_type": "markdown",
   "metadata": {},
   "source": [
    "Develop a program, put your code on production require a lot of work, actually, a lot of team work. Usually more than one person work togheter into a project. Because of this it's very important for code to be clean and modular. A good clean code must be simple, readable and consise and modular code consists in divide the general problem into small pieces like functions and modules. With this, we'll can reuse, write less code to solve the problems and make a more readable and collaborative code.\n",
    "\n",
    "### 1.2.1 Refactoring\n",
    "\n",
    "Sometimes, we don't know exactly how to built a better structure of our code to solve the problem and it's normal to solve the problem but not with the best practices considering software engineering. Because of this, eventually, we refactoring the code, what means, restructuring code to improve internal structure without changing external functionality.\n",
    "\n",
    "### 1.2.2 Why Refactor?\n",
    "\n",
    "- Reduce workload in long run\n",
    "- Easier to maintain doce\n",
    "- Reuse more of your code\n",
    "- Become a better developer\n",
    "\n",
    "### Best Practices to Write a Clean Code\n",
    "\n",
    "- Be descriptive and imply type:\n",
    "<p>\n",
    "    \n",
    "   - Use verbs like is_ and has_ to define booleans for example.\n",
    "   - Use verbs for methods and functions.\n",
    "   - Use noums for variables\n",
    "<p>\n",
    "    \n",
    "- Be consistent but clearly differenciate:\n",
    "<p>\n",
    "    \n",
    "   - age_list: is better than use ages.\n",
    "<p>\n",
    "\n",
    "- Avoid abreviattions\n",
    "<p>\n",
    "    \n",
    "- Long names != Descriptive names"
   ]
  },
  {
   "cell_type": "code",
   "execution_count": 27,
   "metadata": {},
   "outputs": [],
   "source": [
    "import matplotlib.pyplot as plt\n",
    "lista = [5, 10, 15, 10, 5]"
   ]
  },
  {
   "cell_type": "code",
   "execution_count": 39,
   "metadata": {},
   "outputs": [
    {
     "name": "stdout",
     "output_type": "stream",
     "text": [
      "3.141592653589793\n"
     ]
    }
   ],
   "source": [
    "import math\n",
    "\n",
    "print(math.pi)\n",
    "math.pow()"
   ]
  },
  {
   "cell_type": "code",
   "execution_count": 42,
   "metadata": {},
   "outputs": [],
   "source": [
    "lista = [0, 1, 1, 0, 0, 1, 0, 1]"
   ]
  },
  {
   "cell_type": "code",
   "execution_count": 57,
   "metadata": {},
   "outputs": [
    {
     "data": {
      "text/plain": [
       "4"
      ]
     },
     "execution_count": 57,
     "metadata": {},
     "output_type": "execute_result"
    }
   ],
   "source": [
    "len([item for item in lista if item > 0])"
   ]
  },
  {
   "cell_type": "code",
   "execution_count": 59,
   "metadata": {},
   "outputs": [],
   "source": [
    "data = [0, 1, 0, 1, 1, 0, 1]\n"
   ]
  },
  {
   "cell_type": "code",
   "execution_count": 60,
   "metadata": {},
   "outputs": [
    {
     "data": {
      "text/plain": [
       "(array([3., 0., 0., 0., 0., 0., 0., 0., 0., 4.]),\n",
       " array([0. , 0.1, 0.2, 0.3, 0.4, 0.5, 0.6, 0.7, 0.8, 0.9, 1. ]),\n",
       " <a list of 10 Patch objects>)"
      ]
     },
     "execution_count": 60,
     "metadata": {},
     "output_type": "execute_result"
    },
    {
     "data": {
      "image/png": "[encoded data removed]",
      "text/plain": [
       "<Figure size 432x288 with 1 Axes>"
      ]
     },
     "metadata": {
      "needs_background": "light"
     },
     "output_type": "display_data"
    }
   ],
   "source": [
    "plt.hist(data)"
   ]
  },
  {
   "cell_type": "code",
   "execution_count": null,
   "metadata": {},
   "outputs": [],
   "source": []
  }
 ],
 "metadata": {
  "kernelspec": {
   "display_name": "Python 3",
   "language": "python",
   "name": "python3"
  },
  "language_info": {
   "codemirror_mode": {
    "name": "ipython",
    "version": 3
   },
   "file_extension": ".py",
   "mimetype": "text/x-python",
   "name": "python",
   "nbconvert_exporter": "python",
   "pygments_lexer": "ipython3",
   "version": "3.7.4"
  }
 },
 "nbformat": 4,
 "nbformat_minor": 2
}
