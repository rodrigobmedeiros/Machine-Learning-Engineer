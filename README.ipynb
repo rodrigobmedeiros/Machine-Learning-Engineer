{
 "cells": [
  {
   "cell_type": "markdown",
   "metadata": {},
   "source": [
    "Notes on Udacity Nanodregree Program: [Machine Learning Engineer](https://www.udacity.com/course/machine-learning-engineer-nanodegree--nd009t)\n",
    "\n",
    "# <center>Machine Learning Engineer</center>"
   ]
  },
  {
   "cell_type": "markdown",
   "metadata": {},
   "source": [
    "# 1. Software Engineering Fundamentals\n",
    "\n",
    "## 1.1 Introduction to Software Engineering"
   ]
  },
  {
   "cell_type": "markdown",
   "metadata": {},
   "source": [
    "It's very important to use sotftware engineering skills in order to build data science and machine learning applications. We have to think that one day these applications will be on production and we have to think about how to develop a good program. So, to really impact the world with our projects, we have to follow some steps:\n",
    "\n",
    "- Write clean and modular code\n",
    "- Improve code efficiency\n",
    "- Add efective documentation\n",
    "- Use version control"
   ]
  },
  {
   "cell_type": "code",
   "execution_count": null,
   "metadata": {},
   "outputs": [],
   "source": []
  }
 ],
 "metadata": {
  "kernelspec": {
   "display_name": "Python 3",
   "language": "python",
   "name": "python3"
  },
  "language_info": {
   "codemirror_mode": {
    "name": "ipython",
    "version": 3
   },
   "file_extension": ".py",
   "mimetype": "text/x-python",
   "name": "python",
   "nbconvert_exporter": "python",
   "pygments_lexer": "ipython3",
   "version": "3.7.4"
  }
 },
 "nbformat": 4,
 "nbformat_minor": 2
}
