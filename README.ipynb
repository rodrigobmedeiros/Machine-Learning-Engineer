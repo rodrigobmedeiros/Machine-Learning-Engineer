{
 "cells": [
  {
   "cell_type": "markdown",
   "metadata": {},
   "source": [
    "Notes on Udacity Nanodregree Program: [Machine Learning Engineer](https://www.udacity.com/course/machine-learning-engineer-nanodegree--nd009t)\n",
    "\n",
    "# <center>Machine Learning Engineer</center>"
   ]
  },
  {
   "cell_type": "markdown",
   "metadata": {},
   "source": [
    "# 1. Software Engineering Fundamentals\n",
    "\n",
    "## 1.1 Introduction to Software Engineering"
   ]
  },
  {
   "cell_type": "markdown",
   "metadata": {},
   "source": [
    "It's very important to use sotftware engineering skills in order to build data science and machine learning applications. We have to think that one day these applications will be on production and we have to think about how to develop a good program. So, to really impact the world with our projects, we have to follow some steps:\n",
    "\n",
    "- Write clean and modular code\n",
    "- Improve code efficiency\n",
    "- Add efective documentation\n",
    "- Use version control\n",
    "\n",
    "Now, We'll focuse in each one of these steps."
   ]
  },
  {
   "cell_type": "markdown",
   "metadata": {},
   "source": [
    "## 1.2 Clean and Modular Code"
   ]
  },
  {
   "cell_type": "markdown",
   "metadata": {},
   "source": [
    "Develop a program, put your code on production require a lot of work, actually, a lot of team work. Usually more than one person work togheter into a project. Because of this it's very important for code to be clean and modular. A good clean code must be simple, readable and consise and modular code consists in divide the general problem into small pieces like functions and modules. With this, we'll can reuse, write less code to solve the problems and make a more readable and collaborative code.\n",
    "\n",
    "### 1.2.1 Refactoring\n",
    "\n",
    "Sometimes, we don't know exactly how to built a better structure of our code to solve the problem and it's normal to solve the problem but not with the best practices considering software engineering. Because of this, eventually, we refactoring the code, what means, restructuring code to improve internal structure without changing external functionality.\n",
    "\n",
    "### 1.2.2 Why Refactor?\n",
    "\n",
    "- Reduce workload in long run\n",
    "- Easier to maintain doce\n",
    "- Reuse more of your code\n",
    "- Become a better developer\n",
    "\n",
    "### Best Practices to Write a Clean Code\n",
    "\n",
    "- Be descriptive and imply type:\n",
    "<p>\n",
    "    \n",
    "   - Use verbs like is_ and has_ to define booleans for example.\n",
    "   - Use verbs for methods and functions.\n",
    "   - Use noums for variables\n",
    "<p>\n",
    "    \n",
    "- Be consistent but clearly differenciate:\n",
    "<p>\n",
    "    \n",
    "   - age_list: is better than use ages.\n",
    "<p>\n",
    "\n",
    "- Avoid abreviattions\n",
    "<p>\n",
    "    \n",
    "- Long names != Descriptive names"
   ]
  },
  {
   "cell_type": "code",
   "execution_count": null,
   "metadata": {},
   "outputs": [],
   "source": []
  }
 ],
 "metadata": {
  "kernelspec": {
   "display_name": "Python 3",
   "language": "python",
   "name": "python3"
  },
  "language_info": {
   "codemirror_mode": {
    "name": "ipython",
    "version": 3
   },
   "file_extension": ".py",
   "mimetype": "text/x-python",
   "name": "python",
   "nbconvert_exporter": "python",
   "pygments_lexer": "ipython3",
   "version": "3.7.4"
  }
 },
 "nbformat": 4,
 "nbformat_minor": 2
}
