{
 "cells": [
  {
   "cell_type": "markdown",
   "metadata": {},
   "source": [
    "### norbin-distributions\n",
    "\n",
    "norbin-distributions is a Python module for analysize normal and bimonial distributions.\n",
    "\n",
    "### Installation\n",
    "\n",
    "#### User installation\n",
    "\n",
    "To install the module directly from PyPi, use pip or conda installation procedure:\n",
    "\n",
    "pip:\n",
    "\n",
    " ``pip install norbin-distributions``\n",
    " \n",
    "conda:\n",
    "\n",
    " ``conda install norbin-distributions``\n",
    " \n",
    "### Contents\n",
    "\n",
    "- Generaldistribution.py: Parent class for gaussian and binomial distributions\n",
    "- Binomialdistribution.py: Class to create binomial distribution objects\n",
    "- Gaussiandistribution.py: Class to create gaussian distribution objects\n",
    "- __init__.py: File to define path to abstract module import\n",
    "- license.txt: File do define license terms\n",
    "- setup.cfg: File to define description file (README)"
   ]
  }
 ],
 "metadata": {
  "kernelspec": {
   "display_name": "Python 3",
   "language": "python",
   "name": "python3"
  },
  "language_info": {
   "codemirror_mode": {
    "name": "ipython",
    "version": 3
   },
   "file_extension": ".py",
   "mimetype": "text/x-python",
   "name": "python",
   "nbconvert_exporter": "python",
   "pygments_lexer": "ipython3",
   "version": "3.7.4"
  }
 },
 "nbformat": 4,
 "nbformat_minor": 2
}
