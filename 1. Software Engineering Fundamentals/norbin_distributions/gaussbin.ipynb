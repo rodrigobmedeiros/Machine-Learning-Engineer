{
 "cells": [
  {
   "cell_type": "markdown",
   "metadata": {},
   "source": [
    "### norbin-distributions\n",
    "\n",
    "norbin-distributions is a Python module for analysize normal and bimonial distributions.\n",
    "\n",
    "### Installation\n",
    "\n",
    "#### User installation\n",
    "\n",
    "To install the module directly from PyPi, use pip or conda installation procedure:\n",
    "\n",
    "pip:\n",
    "\n",
    " ``pip install norbin-distributions``\n",
    " \n",
    "conda:\n",
    "\n",
    " ``conda install norbin-distributions``\n",
    " \n",
    "### Contents\n",
    "\n",
    "- Generaldistribution.py: Parent class for gaussian and binomial distributions\n",
    "- Binomialdistribution.py: Class to create binomial distribution objects\n",
    "- Gaussiandistribution.py: Class to create gaussian distribution objects\n",
    "- __init__.py: File to define path to abstract module import\n",
    "- license.txt: File do define license terms\n",
    "- setup.cfg: File to define description file (README)"
   ]
  },
  {
   "cell_type": "code",
   "execution_count": 3,
   "metadata": {},
   "outputs": [
    {
     "name": "stdout",
     "output_type": "stream",
     "text": [
      "Processing c:\\users\\digaosuplementos\\appdata\\local\\pip\\cache\\wheels\\b1\\06\\03\\4a68757eb193775d60bbd88a5802c01ed96ac0b1f4cc9e4939\\gaussbin_distributions-1.0-py3-none-any.whl\n",
      "Installing collected packages: gaussbin-distributions\n",
      "Successfully installed gaussbin-distributions-1.0\n"
     ]
    },
    {
     "name": "stderr",
     "output_type": "stream",
     "text": [
      "WARNING: You are using pip version 20.0.2; however, version 20.1 is available.\n",
      "You should consider upgrading via the 'c:\\programdata\\anaconda3\\python.exe -m pip install --upgrade pip' command.\n"
     ]
    }
   ],
   "source": [
    "!pip3 install gaussbin-distributions"
   ]
  },
  {
   "cell_type": "code",
   "execution_count": 7,
   "metadata": {},
   "outputs": [
    {
     "ename": "ModuleNotFoundError",
     "evalue": "No module named 'gaussbin_distributions'",
     "output_type": "error",
     "traceback": [
      "\u001b[1;31m---------------------------------------------------------------------------\u001b[0m",
      "\u001b[1;31mModuleNotFoundError\u001b[0m                       Traceback (most recent call last)",
      "\u001b[1;32m<ipython-input-7-9f1576bc634a>\u001b[0m in \u001b[0;36m<module>\u001b[1;34m\u001b[0m\n\u001b[1;32m----> 1\u001b[1;33m \u001b[1;32mfrom\u001b[0m \u001b[0mgaussbin_distributions\u001b[0m \u001b[1;32mimport\u001b[0m \u001b[0mGaussian\u001b[0m\u001b[1;33m,\u001b[0m \u001b[0mBinomial\u001b[0m\u001b[1;33m\u001b[0m\u001b[1;33m\u001b[0m\u001b[0m\n\u001b[0m",
      "\u001b[1;31mModuleNotFoundError\u001b[0m: No module named 'gaussbin_distributions'"
     ]
    }
   ],
   "source": [
    "from gaussbin_distributions import Gaussian, Binomial"
   ]
  },
  {
   "cell_type": "code",
   "execution_count": 8,
   "metadata": {},
   "outputs": [
    {
     "name": "stdout",
     "output_type": "stream",
     "text": [
      "Collecting gaussbin-distributions\n",
      "  Using cached https://files.pythonhosted.org/packages/12/d1/6065cb079c3e40a3cd913ddca2b3dc6862d98f09f74be4f9bc078826e35b/gaussbin_distributions-1.0.tar.gz\n",
      "Building wheels for collected packages: gaussbin-distributions\n",
      "  Building wheel for gaussbin-distributions (setup.py): started\n",
      "  Building wheel for gaussbin-distributions (setup.py): finished with status 'done'\n",
      "  Created wheel for gaussbin-distributions: filename=gaussbin_distributions-1.0-cp37-none-any.whl size=5060 sha256=6c081fd39eff178ddf97d427a59cbf6cfaf373f4f452b85c8527d27d118be7fc\n",
      "  Stored in directory: C:\\Users\\DigaoSuplementos\\AppData\\Local\\pip\\Cache\\wheels\\6f\\75\\07\\eccfe6c263bcc25ba1616f32c834481920e52bd7cfdcedaae3\n",
      "Successfully built gaussbin-distributions\n",
      "Installing collected packages: gaussbin-distributions\n",
      "Successfully installed gaussbin-distributions-1.0\n"
     ]
    }
   ],
   "source": [
    "!pip install gaussbin-distributions"
   ]
  },
  {
   "cell_type": "code",
   "execution_count": 9,
   "metadata": {},
   "outputs": [],
   "source": [
    "from gaussbin_distributions import Gaussian"
   ]
  },
  {
   "cell_type": "code",
   "execution_count": 10,
   "metadata": {},
   "outputs": [
    {
     "name": "stdout",
     "output_type": "stream",
     "text": [
      "mean 10, standard deviation 2\n"
     ]
    }
   ],
   "source": [
    "teste = Gaussian(10, 2)\n",
    "print(teste)"
   ]
  },
  {
   "cell_type": "code",
   "execution_count": null,
   "metadata": {},
   "outputs": [],
   "source": []
  }
 ],
 "metadata": {
  "kernelspec": {
   "display_name": "Python 3",
   "language": "python",
   "name": "python3"
  },
  "language_info": {
   "codemirror_mode": {
    "name": "ipython",
    "version": 3
   },
   "file_extension": ".py",
   "mimetype": "text/x-python",
   "name": "python",
   "nbconvert_exporter": "python",
   "pygments_lexer": "ipython3",
   "version": "3.7.4"
  }
 },
 "nbformat": 4,
 "nbformat_minor": 2
}
